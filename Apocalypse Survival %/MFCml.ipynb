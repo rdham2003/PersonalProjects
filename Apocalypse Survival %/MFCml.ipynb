{
 "cells": [
  {
   "cell_type": "code",
   "execution_count": 60,
   "metadata": {},
   "outputs": [],
   "source": [
    "import pandas as pd\n",
    "import numpy as np\n",
    "import matplotlib.pyplot as plt\n",
    "import seaborn as sns\n",
    "import torch as tc\n",
    "from sklearn.linear_model import LinearRegression\n",
    "from sklearn.model_selection import train_test_split\n",
    "from sklearn.metrics import mean_squared_error as MSE\n",
    "from sklearn.metrics import mean_absolute_error as MAE\n",
    "from sklearn.metrics import r2_score as R2 \n"
   ]
  },
  {
   "cell_type": "code",
   "execution_count": 61,
   "metadata": {},
   "outputs": [
    {
     "name": "stdout",
     "output_type": "stream",
     "text": [
      "   Age  Height  Weight   IQ  Ability to fight  Weapons?  Vehicles?  \\\n",
      "0   22    1.91   76.81   89                 1         0          1   \n",
      "1   28    1.80   70.68   82                 1         1          0   \n",
      "2   58    1.90   53.40  158                 1         1          0   \n",
      "3   37    1.65   60.20   87                 1         0          0   \n",
      "4   51    1.62  111.74  108                 1         2          2   \n",
      "\n",
      "   Food amount  Survival %  \n",
      "0        39.86       81.27  \n",
      "1       341.82       77.14  \n",
      "2       140.14       46.47  \n",
      "3       306.02       67.02  \n",
      "4       124.37       56.66  \n"
     ]
    }
   ],
   "source": [
    "df = pd.read_csv('apocalypse_data.csv')\n",
    "\n",
    "def preprocess_data(df):\n",
    "    df.dropna(inplace=True)\n",
    "    df.drop_duplicates(inplace=True)\n",
    "    \n",
    "preprocess_data(df)\n",
    "\n",
    "print(df.head()) "
   ]
  },
  {
   "cell_type": "code",
   "execution_count": 62,
   "metadata": {},
   "outputs": [],
   "source": [
    "# correlation_matrix = df.corr()\n",
    "# plt.figure(figsize=(15,8))\n",
    "# sns.heatmap(correlation_matrix, annot=True, cmap='RdBu')\n",
    "# plt.title(\"Apocalyptic Survival Chance\")\n",
    "# plt.show()\n",
    "\n",
    "#I genuinely have no idea what this shit means I thought it just looked cool tbh..."
   ]
  },
  {
   "cell_type": "code",
   "execution_count": 63,
   "metadata": {},
   "outputs": [],
   "source": [
    "#x is the independent variables of the dataset\n",
    "#y is the dependent variable of the dataset\n",
    "#test_size is the % of data that will be used for testing purposes. Data Split purposes: 80% Training, 20% Testing\n",
    "x = df.drop(['Survival %'], axis=1)\n",
    "y = df['Survival %']\n",
    "\n",
    "x_train, x_test, y_train, y_test = train_test_split(x, y, test_size=0.2, random_state=1)"
   ]
  },
  {
   "cell_type": "code",
   "execution_count": 64,
   "metadata": {},
   "outputs": [
    {
     "name": "stdout",
     "output_type": "stream",
     "text": [
      "Mean Squared Error (MSE): 1.7488\n",
      "Root Mean Squared Error (RMSE): 1.3224\n",
      "Mean Absolute Error (MAE): 1.0626\n",
      "R-squared (R²): 0.9948\n"
     ]
    }
   ],
   "source": [
    "reg = LinearRegression()\n",
    "\n",
    "reg.fit(x_train, y_train)\n",
    "y_pred = reg.predict(x_test)\n",
    "\n",
    "mse = MSE(y_test, y_pred)\n",
    "rmse = mse ** (1/2)\n",
    "mae = MAE(y_test, y_pred)\n",
    "r2 = R2(y_test, y_pred)\n",
    "\n",
    "\n",
    "print(f\"Mean Squared Error (MSE): {np.round(mse,4)}\")\n",
    "print(f\"Root Mean Squared Error (RMSE): {np.round(rmse,4)}\")\n",
    "print(f\"Mean Absolute Error (MAE): {np.round(mae,4)}\")\n",
    "print(f\"R-squared (R²): {np.round(r2,4)}\")\n",
    "\n",
    "#MSE: 1.7488 (average squared difference between actual and predicted values. Lower values indicate more accurate performance)\n",
    "#RMSE: 1.3224 (average difference between actual and predicted values, in the same units as the target variable)\n",
    "#MAE: 1.0626 (average absolute difference between actual and predicted values)\n",
    "#R-squared: 0.9948 (Closer to 1 indicates the model's predictions fit the data sheet very well)"
   ]
  },
  {
   "cell_type": "code",
   "execution_count": 65,
   "metadata": {},
   "outputs": [],
   "source": [
    "# plt.scatter(y_test, y_pred, c=\"blue\")\n",
    "# plt.plot([min(y_test), max(y_test)], [min(y_test), max(y_test)], color=\"red\")\n",
    "# plt.xlabel('Actual Survival %')\n",
    "# plt.ylabel('Predicted Survival %')\n",
    "# plt.title(\"Actual vs Predicted Survival %\")\n",
    "# plt.show()"
   ]
  }
 ],
 "metadata": {
  "kernelspec": {
   "display_name": "Python 3",
   "language": "python",
   "name": "python3"
  },
  "language_info": {
   "codemirror_mode": {
    "name": "ipython",
    "version": 3
   },
   "file_extension": ".py",
   "mimetype": "text/x-python",
   "name": "python",
   "nbconvert_exporter": "python",
   "pygments_lexer": "ipython3",
   "version": "3.11.1"
  }
 },
 "nbformat": 4,
 "nbformat_minor": 2
}
